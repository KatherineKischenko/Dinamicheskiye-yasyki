{
 "cells": [
  {
   "cell_type": "markdown",
   "id": "17e66bc6",
   "metadata": {},
   "source": [
    "# Лабораторная работа №2"
   ]
  },
  {
   "cell_type": "markdown",
   "id": "ba05f823",
   "metadata": {},
   "source": [
    "## Задание 1\n",
    ">Провести классификацию найденного датасета, методом машины опорных векторов."
   ]
  },
  {
   "cell_type": "markdown",
   "id": "47f77fe9",
   "metadata": {},
   "source": [
    "Импорт библиотек"
   ]
  },
  {
   "cell_type": "code",
   "execution_count": 25,
   "id": "6fc26e70",
   "metadata": {},
   "outputs": [],
   "source": [
    "import pandas as pd\n",
    "from sklearn.model_selection import train_test_split, cross_val_score\n",
    "from sklearn.model_selection import train_test_split, GridSearchCV\n",
    "from sklearn.preprocessing import LabelEncoder, StandardScaler\n",
    "from sklearn.neighbors import KNeighborsClassifier\n",
    "from sklearn.metrics import classification_report, accuracy_score\n",
    "from sklearn.svm import SVC"
   ]
  },
  {
   "cell_type": "markdown",
   "id": "090705ab",
   "metadata": {},
   "source": [
    "Загрузка датасета"
   ]
  },
  {
   "cell_type": "code",
   "execution_count": 26,
   "id": "339418b6",
   "metadata": {},
   "outputs": [
    {
     "name": "stdout",
     "output_type": "stream",
     "text": [
      "               Spotify ID              Artist IDs Track Name  \\\n",
      "0  19vHgVS1aukRiQWhTqfKnE  1Ffb6ejR6Fe5IamqA5oRUF   DArkSide   \n",
      "1  5BgnL6gHauuvxe4Ok6W1aC  1Ffb6ejR6Fe5IamqA5oRUF       LosT   \n",
      "2  0M3adYbGtyRHACP86dey1H  1Ffb6ejR6Fe5IamqA5oRUF     Throne   \n",
      "\n",
      "          Album Name        Artist Name(s) Release Date  Duration (ms)  \\\n",
      "0           DArkSide  Bring Me The Horizon   10/18/2023         164790   \n",
      "1               LosT  Bring Me The Horizon     5/4/2023         205368   \n",
      "2  That's The Spirit  Bring Me The Horizon    9/11/2015         191520   \n",
      "\n",
      "   Popularity                                Added By              Added At  \\\n",
      "0          74  spotify:user:woth5clwe5p856iw52alp7uek  2023-10-25T13:10:28Z   \n",
      "1          72  spotify:user:woth5clwe5p856iw52alp7uek  2023-10-25T13:10:28Z   \n",
      "2          76  spotify:user:woth5clwe5p856iw52alp7uek  2023-10-25T13:10:28Z   \n",
      "\n",
      "   ... Key  Loudness   Mode  Speechiness  Acousticness  Instrumentalness  \\\n",
      "0  ...   7    -3.018   True       0.1460      0.000352          0.000003   \n",
      "1  ...   9    -3.155  False       0.2270      0.000285          0.000000   \n",
      "2  ...   0    -3.720  False       0.0987      0.000455          0.000000   \n",
      "\n",
      "   Liveness  Valence    Tempo  Time Signature  \n",
      "0     0.628    0.456  167.910               4  \n",
      "1     0.212    0.390  185.081               4  \n",
      "2     0.306    0.387  144.111               4  \n",
      "\n",
      "[3 rows x 23 columns]\n",
      "Spotify ID           object\n",
      "Artist IDs           object\n",
      "Track Name           object\n",
      "Album Name           object\n",
      "Artist Name(s)       object\n",
      "Release Date         object\n",
      "Duration (ms)         int64\n",
      "Popularity            int64\n",
      "Added By             object\n",
      "Added At             object\n",
      "Genres               object\n",
      "Danceability        float64\n",
      "Energy              float64\n",
      "Key                   int64\n",
      "Loudness            float64\n",
      "Mode                   bool\n",
      "Speechiness         float64\n",
      "Acousticness        float64\n",
      "Instrumentalness    float64\n",
      "Liveness            float64\n",
      "Valence             float64\n",
      "Tempo               float64\n",
      "Time Signature        int64\n",
      "dtype: object\n"
     ]
    }
   ],
   "source": [
    "df = pd.read_csv('metal.csv', encoding='utf-8')\n",
    "df['Mode']= df['Mode'].map({1: True, 0: False}).astype(bool)\n",
    "print(df.head(3))\n",
    "print(df.dtypes)"
   ]
  },
  {
   "cell_type": "markdown",
   "id": "b86e2d5d",
   "metadata": {},
   "source": [
    "Удаление ненужных столбцов из датасета"
   ]
  },
  {
   "cell_type": "code",
   "execution_count": 27,
   "id": "2e2d69a0",
   "metadata": {},
   "outputs": [
    {
     "name": "stdout",
     "output_type": "stream",
     "text": [
      "               Artist IDs Track Name         Album Name        Artist Name(s)  \\\n",
      "0  1Ffb6ejR6Fe5IamqA5oRUF   DArkSide           DArkSide  Bring Me The Horizon   \n",
      "1  1Ffb6ejR6Fe5IamqA5oRUF       LosT               LosT  Bring Me The Horizon   \n",
      "2  1Ffb6ejR6Fe5IamqA5oRUF     Throne  That's The Spirit  Bring Me The Horizon   \n",
      "\n",
      "  Release Date  Duration (ms)  Popularity  \\\n",
      "0   10/18/2023         164790          74   \n",
      "1     5/4/2023         205368          72   \n",
      "2    9/11/2015         191520          76   \n",
      "\n",
      "                                              Genres  Danceability  Energy  \\\n",
      "0  melodic metalcore,metalcore,modern rock,rock,u...         0.387   0.940   \n",
      "1  melodic metalcore,metalcore,modern rock,rock,u...         0.396   0.939   \n",
      "2  melodic metalcore,metalcore,modern rock,rock,u...         0.426   0.888   \n",
      "\n",
      "   Key  Loudness   Mode  Speechiness  Acousticness  Instrumentalness  \\\n",
      "0    7    -3.018   True       0.1460      0.000352          0.000003   \n",
      "1    9    -3.155  False       0.2270      0.000285          0.000000   \n",
      "2    0    -3.720  False       0.0987      0.000455          0.000000   \n",
      "\n",
      "   Liveness  Valence    Tempo  \n",
      "0     0.628    0.456  167.910  \n",
      "1     0.212    0.390  185.081  \n",
      "2     0.306    0.387  144.111  \n"
     ]
    }
   ],
   "source": [
    "df = df.drop(['Spotify ID', 'Added By', 'Added At', 'Time Signature'], axis=1)\n",
    "print(df.head(3))"
   ]
  },
  {
   "cell_type": "markdown",
   "id": "7de7bffe",
   "metadata": {},
   "source": [
    "Удаление строк с пропущенными значениями"
   ]
  },
  {
   "cell_type": "code",
   "execution_count": 28,
   "id": "740880e2",
   "metadata": {},
   "outputs": [],
   "source": [
    "df.dropna(inplace=True)"
   ]
  },
  {
   "cell_type": "markdown",
   "id": "e28ca250",
   "metadata": {},
   "source": [
    "Предобработка данных"
   ]
  },
  {
   "cell_type": "code",
   "execution_count": 29,
   "id": "bf8ff2e0",
   "metadata": {},
   "outputs": [
    {
     "name": "stdout",
     "output_type": "stream",
     "text": [
      "   Artist IDs  Track Name  Album Name  Artist Name(s)  Release Date  \\\n",
      "0         212        2152         631             182           206   \n",
      "1         212        5399        1647             182          1178   \n",
      "2         212        9575        2696             182          1740   \n",
      "\n",
      "   Duration (ms)  Popularity  Genres  Danceability  Energy  Key  Loudness  \\\n",
      "0         164790          74     972         0.387   0.940    7    -3.018   \n",
      "1         205368          72     972         0.396   0.939    9    -3.155   \n",
      "2         191520          76     972         0.426   0.888    0    -3.720   \n",
      "\n",
      "    Mode  Speechiness  Acousticness  Instrumentalness  Liveness  Valence  \\\n",
      "0   True       0.1460      0.000352          0.000003     0.628    0.456   \n",
      "1  False       0.2270      0.000285          0.000000     0.212    0.390   \n",
      "2  False       0.0987      0.000455          0.000000     0.306    0.387   \n",
      "\n",
      "     Tempo  \n",
      "0  167.910  \n",
      "1  185.081  \n",
      "2  144.111  \n",
      "Artist IDs            int32\n",
      "Track Name            int32\n",
      "Album Name            int32\n",
      "Artist Name(s)        int32\n",
      "Release Date          int32\n",
      "Duration (ms)         int64\n",
      "Popularity            int64\n",
      "Genres                int32\n",
      "Danceability        float64\n",
      "Energy              float64\n",
      "Key                   int64\n",
      "Loudness            float64\n",
      "Mode                   bool\n",
      "Speechiness         float64\n",
      "Acousticness        float64\n",
      "Instrumentalness    float64\n",
      "Liveness            float64\n",
      "Valence             float64\n",
      "Tempo               float64\n",
      "dtype: object\n"
     ]
    }
   ],
   "source": [
    "# Кодирование категориальных признаков\n",
    "label_encoders = {}\n",
    "for column in df.select_dtypes(include=['object']).columns:\n",
    "    label_encoders[column] = LabelEncoder()\n",
    "    df[column] = label_encoders[column].fit_transform(df[column])\n",
    "print(df.head(3))\n",
    "print(df.dtypes)"
   ]
  },
  {
   "cell_type": "code",
   "execution_count": 30,
   "id": "8b4a1ad4",
   "metadata": {},
   "outputs": [
    {
     "name": "stdout",
     "output_type": "stream",
     "text": [
      "   Artist IDs  Track Name  Album Name  Artist Name(s)  Release Date  \\\n",
      "0   -1.032943   -1.047387   -1.132416       -1.214946     -1.191165   \n",
      "1   -1.032943   -0.007295   -0.120908       -1.214946      0.549409   \n",
      "2   -1.032943    1.330378    0.923455       -1.214946      1.555790   \n",
      "\n",
      "   Duration (ms)  Popularity    Genres  Danceability    Energy       Key  \\\n",
      "0      -0.919780    2.410398  1.890198      0.252167  0.382949  0.498957   \n",
      "1      -0.548958    2.298142  1.890198      0.317669  0.377046  1.066209   \n",
      "2      -0.675508    2.522654  1.890198      0.536006  0.076001 -1.486428   \n",
      "\n",
      "   Loudness   Mode  Speechiness  Acousticness  Instrumentalness  Liveness  \\\n",
      "0  1.034060   True     0.874084     -0.227497         -0.943709  2.487116   \n",
      "1  0.992878  False     2.215229     -0.227993         -0.943718 -0.051936   \n",
      "2  0.823040  False     0.090922     -0.226736         -0.943718  0.521792   \n",
      "\n",
      "    Valence     Tempo  \n",
      "0  1.007971  1.476925  \n",
      "1  0.650282  2.060858  \n",
      "2  0.634023  0.667594  \n"
     ]
    }
   ],
   "source": [
    "# Масштабирование числовых признаков\n",
    "scaler = StandardScaler()\n",
    "numeric_features = df.select_dtypes(include=['int32', 'int64', 'float32', 'float64']).columns\n",
    "df[numeric_features] = scaler.fit_transform(df[numeric_features])\n",
    "print(df.head(3))"
   ]
  },
  {
   "cell_type": "markdown",
   "id": "23011cc8",
   "metadata": {},
   "source": [
    "Разделение данных на обучающий и тестовый наборы"
   ]
  },
  {
   "cell_type": "code",
   "execution_count": 31,
   "id": "22707b09",
   "metadata": {},
   "outputs": [],
   "source": [
    "X = df.drop('Mode', axis=1)\n",
    "Y = df['Mode']\n",
    "X_train, X_test, Y_train, Y_test = train_test_split(X, Y, test_size=0.2, random_state=42)"
   ]
  },
  {
   "cell_type": "markdown",
   "id": "9e61986c",
   "metadata": {},
   "source": [
    "---\n",
    "---"
   ]
  },
  {
   "cell_type": "markdown",
   "id": "e009ef51",
   "metadata": {},
   "source": [
    "Поиск оптимальных параметров"
   ]
  },
  {
   "cell_type": "code",
   "execution_count": 32,
   "id": "65c36cd6",
   "metadata": {},
   "outputs": [
    {
     "name": "stdout",
     "output_type": "stream",
     "text": [
      "Fitting 3 folds for each of 27 candidates, totalling 81 fits\n",
      "[CV 1/3] END ........C=0.1, gamma=1, kernel=rbf;, score=0.619 total time=  14.8s\n",
      "[CV 2/3] END ........C=0.1, gamma=1, kernel=rbf;, score=0.619 total time=  13.1s\n",
      "[CV 3/3] END ........C=0.1, gamma=1, kernel=rbf;, score=0.619 total time=  15.1s\n",
      "[CV 1/3] END .....C=0.1, gamma=1, kernel=linear;, score=0.619 total time=   3.1s\n",
      "[CV 2/3] END .....C=0.1, gamma=1, kernel=linear;, score=0.616 total time=  13.2s\n",
      "[CV 3/3] END .....C=0.1, gamma=1, kernel=linear;, score=0.619 total time=   2.1s\n",
      "[CV 1/3] END ....C=0.1, gamma=1, kernel=sigmoid;, score=0.533 total time=   4.3s\n",
      "[CV 2/3] END ....C=0.1, gamma=1, kernel=sigmoid;, score=0.530 total time=   4.4s\n",
      "[CV 3/3] END ....C=0.1, gamma=1, kernel=sigmoid;, score=0.523 total time=   5.7s\n",
      "[CV 1/3] END .......C=0.1, gamma=10, kernel=rbf;, score=0.619 total time=   6.9s\n",
      "[CV 2/3] END .......C=0.1, gamma=10, kernel=rbf;, score=0.619 total time=   7.7s\n",
      "[CV 3/3] END .......C=0.1, gamma=10, kernel=rbf;, score=0.619 total time=   8.2s\n",
      "[CV 1/3] END ....C=0.1, gamma=10, kernel=linear;, score=0.619 total time=   3.3s\n",
      "[CV 2/3] END ....C=0.1, gamma=10, kernel=linear;, score=0.616 total time=  13.8s\n",
      "[CV 3/3] END ....C=0.1, gamma=10, kernel=linear;, score=0.619 total time=   4.6s\n",
      "[CV 1/3] END ...C=0.1, gamma=10, kernel=sigmoid;, score=0.534 total time=   2.9s\n",
      "[CV 2/3] END ...C=0.1, gamma=10, kernel=sigmoid;, score=0.523 total time=   3.6s\n",
      "[CV 3/3] END ...C=0.1, gamma=10, kernel=sigmoid;, score=0.512 total time=   5.8s\n",
      "[CV 1/3] END ......C=0.1, gamma=100, kernel=rbf;, score=0.619 total time=  12.0s\n",
      "[CV 2/3] END ......C=0.1, gamma=100, kernel=rbf;, score=0.619 total time=  11.7s\n",
      "[CV 3/3] END ......C=0.1, gamma=100, kernel=rbf;, score=0.619 total time=  13.2s\n",
      "[CV 1/3] END ...C=0.1, gamma=100, kernel=linear;, score=0.619 total time=   4.3s\n",
      "[CV 2/3] END ...C=0.1, gamma=100, kernel=linear;, score=0.616 total time=  12.9s\n",
      "[CV 3/3] END ...C=0.1, gamma=100, kernel=linear;, score=0.619 total time=   2.5s\n",
      "[CV 1/3] END ..C=0.1, gamma=100, kernel=sigmoid;, score=0.529 total time=   4.0s\n",
      "[CV 2/3] END ..C=0.1, gamma=100, kernel=sigmoid;, score=0.523 total time=   2.6s\n",
      "[CV 3/3] END ..C=0.1, gamma=100, kernel=sigmoid;, score=0.513 total time=   3.0s\n",
      "[CV 1/3] END ........C=0.3, gamma=1, kernel=rbf;, score=0.619 total time=   6.3s\n",
      "[CV 2/3] END ........C=0.3, gamma=1, kernel=rbf;, score=0.619 total time=   6.7s\n",
      "[CV 3/3] END ........C=0.3, gamma=1, kernel=rbf;, score=0.619 total time=   6.3s\n",
      "[CV 1/3] END .....C=0.3, gamma=1, kernel=linear;, score=0.619 total time=   3.7s\n",
      "[CV 2/3] END .....C=0.3, gamma=1, kernel=linear;, score=0.616 total time=  29.6s\n",
      "[CV 3/3] END .....C=0.3, gamma=1, kernel=linear;, score=0.619 total time=   4.6s\n",
      "[CV 1/3] END ....C=0.3, gamma=1, kernel=sigmoid;, score=0.535 total time=   5.1s\n",
      "[CV 2/3] END ....C=0.3, gamma=1, kernel=sigmoid;, score=0.527 total time=   3.8s\n",
      "[CV 3/3] END ....C=0.3, gamma=1, kernel=sigmoid;, score=0.515 total time=   4.5s\n",
      "[CV 1/3] END .......C=0.3, gamma=10, kernel=rbf;, score=0.619 total time=   6.0s\n",
      "[CV 2/3] END .......C=0.3, gamma=10, kernel=rbf;, score=0.619 total time=   7.7s\n",
      "[CV 3/3] END .......C=0.3, gamma=10, kernel=rbf;, score=0.619 total time=   6.6s\n",
      "[CV 1/3] END ....C=0.3, gamma=10, kernel=linear;, score=0.619 total time=   2.2s\n",
      "[CV 2/3] END ....C=0.3, gamma=10, kernel=linear;, score=0.616 total time=  26.7s\n",
      "[CV 3/3] END ....C=0.3, gamma=10, kernel=linear;, score=0.619 total time=   3.1s\n",
      "[CV 1/3] END ...C=0.3, gamma=10, kernel=sigmoid;, score=0.532 total time=   4.1s\n",
      "[CV 2/3] END ...C=0.3, gamma=10, kernel=sigmoid;, score=0.532 total time=   4.8s\n",
      "[CV 3/3] END ...C=0.3, gamma=10, kernel=sigmoid;, score=0.512 total time=   4.2s\n",
      "[CV 1/3] END ......C=0.3, gamma=100, kernel=rbf;, score=0.619 total time=  13.5s\n",
      "[CV 2/3] END ......C=0.3, gamma=100, kernel=rbf;, score=0.619 total time=  10.9s\n",
      "[CV 3/3] END ......C=0.3, gamma=100, kernel=rbf;, score=0.619 total time=   9.9s\n",
      "[CV 1/3] END ...C=0.3, gamma=100, kernel=linear;, score=0.619 total time=   3.1s\n",
      "[CV 2/3] END ...C=0.3, gamma=100, kernel=linear;, score=0.616 total time=  23.0s\n",
      "[CV 3/3] END ...C=0.3, gamma=100, kernel=linear;, score=0.619 total time=   2.8s\n",
      "[CV 1/3] END ..C=0.3, gamma=100, kernel=sigmoid;, score=0.533 total time=   3.4s\n",
      "[CV 2/3] END ..C=0.3, gamma=100, kernel=sigmoid;, score=0.520 total time=   2.3s\n",
      "[CV 3/3] END ..C=0.3, gamma=100, kernel=sigmoid;, score=0.520 total time=   2.9s\n",
      "[CV 1/3] END ..........C=1, gamma=1, kernel=rbf;, score=0.663 total time=   7.8s\n",
      "[CV 2/3] END ..........C=1, gamma=1, kernel=rbf;, score=0.670 total time=   6.5s\n",
      "[CV 3/3] END ..........C=1, gamma=1, kernel=rbf;, score=0.672 total time=   7.1s\n",
      "[CV 1/3] END .......C=1, gamma=1, kernel=linear;, score=0.619 total time=   4.0s\n",
      "[CV 2/3] END .......C=1, gamma=1, kernel=linear;, score=0.616 total time= 1.3min\n",
      "[CV 3/3] END .......C=1, gamma=1, kernel=linear;, score=0.619 total time=   4.2s\n",
      "[CV 1/3] END ......C=1, gamma=1, kernel=sigmoid;, score=0.538 total time=   5.8s\n",
      "[CV 2/3] END ......C=1, gamma=1, kernel=sigmoid;, score=0.524 total time=   6.4s\n",
      "[CV 3/3] END ......C=1, gamma=1, kernel=sigmoid;, score=0.518 total time=   4.6s\n",
      "[CV 1/3] END .........C=1, gamma=10, kernel=rbf;, score=0.661 total time=   9.1s\n",
      "[CV 2/3] END .........C=1, gamma=10, kernel=rbf;, score=0.669 total time=   7.7s\n",
      "[CV 3/3] END .........C=1, gamma=10, kernel=rbf;, score=0.670 total time=   9.7s\n",
      "[CV 1/3] END ......C=1, gamma=10, kernel=linear;, score=0.619 total time=   3.3s\n",
      "[CV 2/3] END ......C=1, gamma=10, kernel=linear;, score=0.616 total time= 1.4min\n",
      "[CV 3/3] END ......C=1, gamma=10, kernel=linear;, score=0.619 total time=   2.7s\n",
      "[CV 1/3] END .....C=1, gamma=10, kernel=sigmoid;, score=0.530 total time=   3.2s\n",
      "[CV 2/3] END .....C=1, gamma=10, kernel=sigmoid;, score=0.525 total time=   2.5s\n",
      "[CV 3/3] END .....C=1, gamma=10, kernel=sigmoid;, score=0.512 total time=   2.2s\n",
      "[CV 1/3] END ........C=1, gamma=100, kernel=rbf;, score=0.661 total time=   8.2s\n",
      "[CV 2/3] END ........C=1, gamma=100, kernel=rbf;, score=0.669 total time=  11.2s\n",
      "[CV 3/3] END ........C=1, gamma=100, kernel=rbf;, score=0.670 total time=  11.4s\n",
      "[CV 1/3] END .....C=1, gamma=100, kernel=linear;, score=0.619 total time=   2.7s\n",
      "[CV 2/3] END .....C=1, gamma=100, kernel=linear;, score=0.616 total time= 1.1min\n",
      "[CV 3/3] END .....C=1, gamma=100, kernel=linear;, score=0.619 total time=   3.3s\n",
      "[CV 1/3] END ....C=1, gamma=100, kernel=sigmoid;, score=0.531 total time=   3.9s\n",
      "[CV 2/3] END ....C=1, gamma=100, kernel=sigmoid;, score=0.522 total time=   3.8s\n",
      "[CV 3/3] END ....C=1, gamma=100, kernel=sigmoid;, score=0.518 total time=   3.2s\n"
     ]
    },
    {
     "data": {
      "text/html": [
       "<style>#sk-container-id-1 {color: black;}#sk-container-id-1 pre{padding: 0;}#sk-container-id-1 div.sk-toggleable {background-color: white;}#sk-container-id-1 label.sk-toggleable__label {cursor: pointer;display: block;width: 100%;margin-bottom: 0;padding: 0.3em;box-sizing: border-box;text-align: center;}#sk-container-id-1 label.sk-toggleable__label-arrow:before {content: \"▸\";float: left;margin-right: 0.25em;color: #696969;}#sk-container-id-1 label.sk-toggleable__label-arrow:hover:before {color: black;}#sk-container-id-1 div.sk-estimator:hover label.sk-toggleable__label-arrow:before {color: black;}#sk-container-id-1 div.sk-toggleable__content {max-height: 0;max-width: 0;overflow: hidden;text-align: left;background-color: #f0f8ff;}#sk-container-id-1 div.sk-toggleable__content pre {margin: 0.2em;color: black;border-radius: 0.25em;background-color: #f0f8ff;}#sk-container-id-1 input.sk-toggleable__control:checked~div.sk-toggleable__content {max-height: 200px;max-width: 100%;overflow: auto;}#sk-container-id-1 input.sk-toggleable__control:checked~label.sk-toggleable__label-arrow:before {content: \"▾\";}#sk-container-id-1 div.sk-estimator input.sk-toggleable__control:checked~label.sk-toggleable__label {background-color: #d4ebff;}#sk-container-id-1 div.sk-label input.sk-toggleable__control:checked~label.sk-toggleable__label {background-color: #d4ebff;}#sk-container-id-1 input.sk-hidden--visually {border: 0;clip: rect(1px 1px 1px 1px);clip: rect(1px, 1px, 1px, 1px);height: 1px;margin: -1px;overflow: hidden;padding: 0;position: absolute;width: 1px;}#sk-container-id-1 div.sk-estimator {font-family: monospace;background-color: #f0f8ff;border: 1px dotted black;border-radius: 0.25em;box-sizing: border-box;margin-bottom: 0.5em;}#sk-container-id-1 div.sk-estimator:hover {background-color: #d4ebff;}#sk-container-id-1 div.sk-parallel-item::after {content: \"\";width: 100%;border-bottom: 1px solid gray;flex-grow: 1;}#sk-container-id-1 div.sk-label:hover label.sk-toggleable__label {background-color: #d4ebff;}#sk-container-id-1 div.sk-serial::before {content: \"\";position: absolute;border-left: 1px solid gray;box-sizing: border-box;top: 0;bottom: 0;left: 50%;z-index: 0;}#sk-container-id-1 div.sk-serial {display: flex;flex-direction: column;align-items: center;background-color: white;padding-right: 0.2em;padding-left: 0.2em;position: relative;}#sk-container-id-1 div.sk-item {position: relative;z-index: 1;}#sk-container-id-1 div.sk-parallel {display: flex;align-items: stretch;justify-content: center;background-color: white;position: relative;}#sk-container-id-1 div.sk-item::before, #sk-container-id-1 div.sk-parallel-item::before {content: \"\";position: absolute;border-left: 1px solid gray;box-sizing: border-box;top: 0;bottom: 0;left: 50%;z-index: -1;}#sk-container-id-1 div.sk-parallel-item {display: flex;flex-direction: column;z-index: 1;position: relative;background-color: white;}#sk-container-id-1 div.sk-parallel-item:first-child::after {align-self: flex-end;width: 50%;}#sk-container-id-1 div.sk-parallel-item:last-child::after {align-self: flex-start;width: 50%;}#sk-container-id-1 div.sk-parallel-item:only-child::after {width: 0;}#sk-container-id-1 div.sk-dashed-wrapped {border: 1px dashed gray;margin: 0 0.4em 0.5em 0.4em;box-sizing: border-box;padding-bottom: 0.4em;background-color: white;}#sk-container-id-1 div.sk-label label {font-family: monospace;font-weight: bold;display: inline-block;line-height: 1.2em;}#sk-container-id-1 div.sk-label-container {text-align: center;}#sk-container-id-1 div.sk-container {/* jupyter's `normalize.less` sets `[hidden] { display: none; }` but bootstrap.min.css set `[hidden] { display: none !important; }` so we also need the `!important` here to be able to override the default hidden behavior on the sphinx rendered scikit-learn.org. See: https://github.com/scikit-learn/scikit-learn/issues/21755 */display: inline-block !important;position: relative;}#sk-container-id-1 div.sk-text-repr-fallback {display: none;}</style><div id=\"sk-container-id-1\" class=\"sk-top-container\"><div class=\"sk-text-repr-fallback\"><pre>GridSearchCV(cv=3, estimator=SVC(), n_jobs=1,\n",
       "             param_grid={&#x27;C&#x27;: [0.1, 0.3, 1], &#x27;gamma&#x27;: [1, 10, 100],\n",
       "                         &#x27;kernel&#x27;: (&#x27;rbf&#x27;, &#x27;linear&#x27;, &#x27;sigmoid&#x27;)},\n",
       "             verbose=3)</pre><b>In a Jupyter environment, please rerun this cell to show the HTML representation or trust the notebook. <br />On GitHub, the HTML representation is unable to render, please try loading this page with nbviewer.org.</b></div><div class=\"sk-container\" hidden><div class=\"sk-item sk-dashed-wrapped\"><div class=\"sk-label-container\"><div class=\"sk-label sk-toggleable\"><input class=\"sk-toggleable__control sk-hidden--visually\" id=\"sk-estimator-id-1\" type=\"checkbox\" ><label for=\"sk-estimator-id-1\" class=\"sk-toggleable__label sk-toggleable__label-arrow\">GridSearchCV</label><div class=\"sk-toggleable__content\"><pre>GridSearchCV(cv=3, estimator=SVC(), n_jobs=1,\n",
       "             param_grid={&#x27;C&#x27;: [0.1, 0.3, 1], &#x27;gamma&#x27;: [1, 10, 100],\n",
       "                         &#x27;kernel&#x27;: (&#x27;rbf&#x27;, &#x27;linear&#x27;, &#x27;sigmoid&#x27;)},\n",
       "             verbose=3)</pre></div></div></div><div class=\"sk-parallel\"><div class=\"sk-parallel-item\"><div class=\"sk-item\"><div class=\"sk-label-container\"><div class=\"sk-label sk-toggleable\"><input class=\"sk-toggleable__control sk-hidden--visually\" id=\"sk-estimator-id-2\" type=\"checkbox\" ><label for=\"sk-estimator-id-2\" class=\"sk-toggleable__label sk-toggleable__label-arrow\">estimator: SVC</label><div class=\"sk-toggleable__content\"><pre>SVC()</pre></div></div></div><div class=\"sk-serial\"><div class=\"sk-item\"><div class=\"sk-estimator sk-toggleable\"><input class=\"sk-toggleable__control sk-hidden--visually\" id=\"sk-estimator-id-3\" type=\"checkbox\" ><label for=\"sk-estimator-id-3\" class=\"sk-toggleable__label sk-toggleable__label-arrow\">SVC</label><div class=\"sk-toggleable__content\"><pre>SVC()</pre></div></div></div></div></div></div></div></div></div></div>"
      ],
      "text/plain": [
       "GridSearchCV(cv=3, estimator=SVC(), n_jobs=1,\n",
       "             param_grid={'C': [0.1, 0.3, 1], 'gamma': [1, 10, 100],\n",
       "                         'kernel': ('rbf', 'linear', 'sigmoid')},\n",
       "             verbose=3)"
      ]
     },
     "execution_count": 32,
     "metadata": {},
     "output_type": "execute_result"
    }
   ],
   "source": [
    "svm_model = SVC()\n",
    "parameters = {'kernel':('rbf', 'linear', 'sigmoid'), 'C':[0.1, 0.3, 1], 'gamma':[1, 10, 100]}\n",
    "grid_search = GridSearchCV(svm_model, parameters, cv=3, verbose=3,n_jobs=1)\n",
    "grid_search.fit(X_train, Y_train)"
   ]
  },
  {
   "cell_type": "markdown",
   "id": "e52d59b1",
   "metadata": {},
   "source": [
    "Получение лучших параметров"
   ]
  },
  {
   "cell_type": "code",
   "execution_count": 33,
   "id": "b76c60c9",
   "metadata": {},
   "outputs": [
    {
     "name": "stdout",
     "output_type": "stream",
     "text": [
      "{'C': 1, 'gamma': 1, 'kernel': 'rbf'}\n"
     ]
    }
   ],
   "source": [
    "best_parametrs = grid_search.best_params_\n",
    "print(best_parametrs)"
   ]
  },
  {
   "cell_type": "markdown",
   "id": "97d3f23e",
   "metadata": {},
   "source": [
    "Обучение с лучшими параметрами"
   ]
  },
  {
   "cell_type": "code",
   "execution_count": 34,
   "id": "a1822fba",
   "metadata": {},
   "outputs": [
    {
     "data": {
      "text/html": [
       "<style>#sk-container-id-2 {color: black;}#sk-container-id-2 pre{padding: 0;}#sk-container-id-2 div.sk-toggleable {background-color: white;}#sk-container-id-2 label.sk-toggleable__label {cursor: pointer;display: block;width: 100%;margin-bottom: 0;padding: 0.3em;box-sizing: border-box;text-align: center;}#sk-container-id-2 label.sk-toggleable__label-arrow:before {content: \"▸\";float: left;margin-right: 0.25em;color: #696969;}#sk-container-id-2 label.sk-toggleable__label-arrow:hover:before {color: black;}#sk-container-id-2 div.sk-estimator:hover label.sk-toggleable__label-arrow:before {color: black;}#sk-container-id-2 div.sk-toggleable__content {max-height: 0;max-width: 0;overflow: hidden;text-align: left;background-color: #f0f8ff;}#sk-container-id-2 div.sk-toggleable__content pre {margin: 0.2em;color: black;border-radius: 0.25em;background-color: #f0f8ff;}#sk-container-id-2 input.sk-toggleable__control:checked~div.sk-toggleable__content {max-height: 200px;max-width: 100%;overflow: auto;}#sk-container-id-2 input.sk-toggleable__control:checked~label.sk-toggleable__label-arrow:before {content: \"▾\";}#sk-container-id-2 div.sk-estimator input.sk-toggleable__control:checked~label.sk-toggleable__label {background-color: #d4ebff;}#sk-container-id-2 div.sk-label input.sk-toggleable__control:checked~label.sk-toggleable__label {background-color: #d4ebff;}#sk-container-id-2 input.sk-hidden--visually {border: 0;clip: rect(1px 1px 1px 1px);clip: rect(1px, 1px, 1px, 1px);height: 1px;margin: -1px;overflow: hidden;padding: 0;position: absolute;width: 1px;}#sk-container-id-2 div.sk-estimator {font-family: monospace;background-color: #f0f8ff;border: 1px dotted black;border-radius: 0.25em;box-sizing: border-box;margin-bottom: 0.5em;}#sk-container-id-2 div.sk-estimator:hover {background-color: #d4ebff;}#sk-container-id-2 div.sk-parallel-item::after {content: \"\";width: 100%;border-bottom: 1px solid gray;flex-grow: 1;}#sk-container-id-2 div.sk-label:hover label.sk-toggleable__label {background-color: #d4ebff;}#sk-container-id-2 div.sk-serial::before {content: \"\";position: absolute;border-left: 1px solid gray;box-sizing: border-box;top: 0;bottom: 0;left: 50%;z-index: 0;}#sk-container-id-2 div.sk-serial {display: flex;flex-direction: column;align-items: center;background-color: white;padding-right: 0.2em;padding-left: 0.2em;position: relative;}#sk-container-id-2 div.sk-item {position: relative;z-index: 1;}#sk-container-id-2 div.sk-parallel {display: flex;align-items: stretch;justify-content: center;background-color: white;position: relative;}#sk-container-id-2 div.sk-item::before, #sk-container-id-2 div.sk-parallel-item::before {content: \"\";position: absolute;border-left: 1px solid gray;box-sizing: border-box;top: 0;bottom: 0;left: 50%;z-index: -1;}#sk-container-id-2 div.sk-parallel-item {display: flex;flex-direction: column;z-index: 1;position: relative;background-color: white;}#sk-container-id-2 div.sk-parallel-item:first-child::after {align-self: flex-end;width: 50%;}#sk-container-id-2 div.sk-parallel-item:last-child::after {align-self: flex-start;width: 50%;}#sk-container-id-2 div.sk-parallel-item:only-child::after {width: 0;}#sk-container-id-2 div.sk-dashed-wrapped {border: 1px dashed gray;margin: 0 0.4em 0.5em 0.4em;box-sizing: border-box;padding-bottom: 0.4em;background-color: white;}#sk-container-id-2 div.sk-label label {font-family: monospace;font-weight: bold;display: inline-block;line-height: 1.2em;}#sk-container-id-2 div.sk-label-container {text-align: center;}#sk-container-id-2 div.sk-container {/* jupyter's `normalize.less` sets `[hidden] { display: none; }` but bootstrap.min.css set `[hidden] { display: none !important; }` so we also need the `!important` here to be able to override the default hidden behavior on the sphinx rendered scikit-learn.org. See: https://github.com/scikit-learn/scikit-learn/issues/21755 */display: inline-block !important;position: relative;}#sk-container-id-2 div.sk-text-repr-fallback {display: none;}</style><div id=\"sk-container-id-2\" class=\"sk-top-container\"><div class=\"sk-text-repr-fallback\"><pre>SVC()</pre><b>In a Jupyter environment, please rerun this cell to show the HTML representation or trust the notebook. <br />On GitHub, the HTML representation is unable to render, please try loading this page with nbviewer.org.</b></div><div class=\"sk-container\" hidden><div class=\"sk-item\"><div class=\"sk-estimator sk-toggleable\"><input class=\"sk-toggleable__control sk-hidden--visually\" id=\"sk-estimator-id-4\" type=\"checkbox\" checked><label for=\"sk-estimator-id-4\" class=\"sk-toggleable__label sk-toggleable__label-arrow\">SVC</label><div class=\"sk-toggleable__content\"><pre>SVC()</pre></div></div></div></div></div>"
      ],
      "text/plain": [
       "SVC()"
      ]
     },
     "execution_count": 34,
     "metadata": {},
     "output_type": "execute_result"
    }
   ],
   "source": [
    "best_svm = grid_search.best_estimator_\n",
    "best_svm.fit(X_train, Y_train)\n",
    "# Обучение модели на тренировочных данных\n",
    "svm_model.fit(X_train, Y_train)"
   ]
  },
  {
   "cell_type": "markdown",
   "id": "af8bc229",
   "metadata": {},
   "source": [
    "Предсказание на тестовом наборе"
   ]
  },
  {
   "cell_type": "code",
   "execution_count": 35,
   "id": "615da6ac",
   "metadata": {},
   "outputs": [],
   "source": [
    "Y_pred = svm_model.predict(X_test)"
   ]
  },
  {
   "cell_type": "markdown",
   "id": "3a72350c",
   "metadata": {},
   "source": [
    "Оценка производительности"
   ]
  },
  {
   "cell_type": "code",
   "execution_count": 37,
   "id": "2ceb9ab7",
   "metadata": {},
   "outputs": [
    {
     "name": "stdout",
     "output_type": "stream",
     "text": [
      "0.6350308641975309\n",
      "              precision    recall  f1-score   support\n",
      "\n",
      "       False       0.60      0.14      0.22       991\n",
      "        True       0.64      0.94      0.76      1601\n",
      "\n",
      "    accuracy                           0.64      2592\n",
      "   macro avg       0.62      0.54      0.49      2592\n",
      "weighted avg       0.62      0.64      0.55      2592\n",
      "\n"
     ]
    }
   ],
   "source": [
    "accuracy = accuracy_score(Y_test, Y_pred)\n",
    "result = classification_report(Y_test, Y_pred)\n",
    "\n",
    "print(accuracy)\n",
    "print(result)"
   ]
  },
  {
   "cell_type": "markdown",
   "id": "3b2d1e63",
   "metadata": {},
   "source": [
    "Перекрестная проверка для оценки модели"
   ]
  },
  {
   "cell_type": "code",
   "execution_count": 40,
   "id": "31a4d424",
   "metadata": {},
   "outputs": [
    {
     "name": "stdout",
     "output_type": "stream",
     "text": [
      "0.6390738060781476, 0.6364688856729378, 0.638205499276411\n",
      "0.6379160636758322\n"
     ]
    }
   ],
   "source": [
    "cv_scores = cross_val_score(svm_model, X_train, Y_train, cv=3)\n",
    "\n",
    "print(*cv_scores, sep=', ')\n",
    "print(cv_scores.mean())"
   ]
  }
 ],
 "metadata": {
  "kernelspec": {
   "display_name": "Python 3 (ipykernel)",
   "language": "python",
   "name": "python3"
  },
  "language_info": {
   "codemirror_mode": {
    "name": "ipython",
    "version": 3
   },
   "file_extension": ".py",
   "mimetype": "text/x-python",
   "name": "python",
   "nbconvert_exporter": "python",
   "pygments_lexer": "ipython3",
   "version": "3.11.4"
  }
 },
 "nbformat": 4,
 "nbformat_minor": 5
}
