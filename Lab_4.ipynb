{
 "cells": [
  {
   "cell_type": "markdown",
   "id": "425f3113",
   "metadata": {},
   "source": [
    "# Лабораторная работа №4\n"
   ]
  },
  {
   "cell_type": "markdown",
   "id": "2f00fb55",
   "metadata": {},
   "source": [
    "*Кищенко Екатерина  \n",
    "ПИН-212*"
   ]
  },
  {
   "cell_type": "markdown",
   "id": "3ccabe2a",
   "metadata": {},
   "source": [
    "## Задание"
   ]
  },
  {
   "cell_type": "markdown",
   "id": "be1a9d2d",
   "metadata": {},
   "source": [
    ">Провести классификацию найденного датасета, методами наивного Байеса"
   ]
  },
  {
   "cell_type": "markdown",
   "id": "a90c288c",
   "metadata": {},
   "source": [
    "Импорт библиотек"
   ]
  },
  {
   "cell_type": "code",
   "execution_count": 1,
   "id": "b027db0f",
   "metadata": {},
   "outputs": [],
   "source": [
    "import pandas as pd\n",
    "from sklearn.model_selection import train_test_split, GridSearchCV\n",
    "from sklearn.preprocessing import LabelEncoder, StandardScaler\n",
    "from sklearn.metrics import classification_report, accuracy_score\n",
    "from sklearn.linear_model import LogisticRegression, LinearRegression\n",
    "from sklearn.naive_bayes import GaussianNB"
   ]
  },
  {
   "cell_type": "markdown",
   "id": "866276ce",
   "metadata": {},
   "source": [
    "Загрузка датасета"
   ]
  },
  {
   "cell_type": "code",
   "execution_count": 2,
   "id": "13f5ce5f",
   "metadata": {},
   "outputs": [
    {
     "name": "stdout",
     "output_type": "stream",
     "text": [
      "               Spotify ID              Artist IDs Track Name  \\\n",
      "0  19vHgVS1aukRiQWhTqfKnE  1Ffb6ejR6Fe5IamqA5oRUF   DArkSide   \n",
      "1  5BgnL6gHauuvxe4Ok6W1aC  1Ffb6ejR6Fe5IamqA5oRUF       LosT   \n",
      "2  0M3adYbGtyRHACP86dey1H  1Ffb6ejR6Fe5IamqA5oRUF     Throne   \n",
      "\n",
      "          Album Name        Artist Name(s) Release Date  Duration (ms)  \\\n",
      "0           DArkSide  Bring Me The Horizon   10/18/2023         164790   \n",
      "1               LosT  Bring Me The Horizon     5/4/2023         205368   \n",
      "2  That's The Spirit  Bring Me The Horizon    9/11/2015         191520   \n",
      "\n",
      "   Popularity                                Added By              Added At  \\\n",
      "0          74  spotify:user:woth5clwe5p856iw52alp7uek  2023-10-25T13:10:28Z   \n",
      "1          72  spotify:user:woth5clwe5p856iw52alp7uek  2023-10-25T13:10:28Z   \n",
      "2          76  spotify:user:woth5clwe5p856iw52alp7uek  2023-10-25T13:10:28Z   \n",
      "\n",
      "   ... Key  Loudness   Mode  Speechiness  Acousticness  Instrumentalness  \\\n",
      "0  ...   7    -3.018   True       0.1460      0.000352          0.000003   \n",
      "1  ...   9    -3.155  False       0.2270      0.000285          0.000000   \n",
      "2  ...   0    -3.720  False       0.0987      0.000455          0.000000   \n",
      "\n",
      "   Liveness  Valence    Tempo  Time Signature  \n",
      "0     0.628    0.456  167.910               4  \n",
      "1     0.212    0.390  185.081               4  \n",
      "2     0.306    0.387  144.111               4  \n",
      "\n",
      "[3 rows x 23 columns]\n",
      "Spotify ID           object\n",
      "Artist IDs           object\n",
      "Track Name           object\n",
      "Album Name           object\n",
      "Artist Name(s)       object\n",
      "Release Date         object\n",
      "Duration (ms)         int64\n",
      "Popularity            int64\n",
      "Added By             object\n",
      "Added At             object\n",
      "Genres               object\n",
      "Danceability        float64\n",
      "Energy              float64\n",
      "Key                   int64\n",
      "Loudness            float64\n",
      "Mode                   bool\n",
      "Speechiness         float64\n",
      "Acousticness        float64\n",
      "Instrumentalness    float64\n",
      "Liveness            float64\n",
      "Valence             float64\n",
      "Tempo               float64\n",
      "Time Signature        int64\n",
      "dtype: object\n"
     ]
    }
   ],
   "source": [
    "df = pd.read_csv('metal.csv', encoding='utf-8')\n",
    "df['Mode']= df['Mode'].map({1: True, 0: False}).astype(bool)\n",
    "print(df.head(3))\n",
    "print(df.dtypes)"
   ]
  },
  {
   "cell_type": "markdown",
   "id": "00d0d77a",
   "metadata": {},
   "source": [
    "Удаление ненужных столбцов из датасета"
   ]
  },
  {
   "cell_type": "code",
   "execution_count": 3,
   "id": "39b0a4ff",
   "metadata": {},
   "outputs": [
    {
     "name": "stdout",
     "output_type": "stream",
     "text": [
      "               Artist IDs Track Name         Album Name        Artist Name(s)  \\\n",
      "0  1Ffb6ejR6Fe5IamqA5oRUF   DArkSide           DArkSide  Bring Me The Horizon   \n",
      "1  1Ffb6ejR6Fe5IamqA5oRUF       LosT               LosT  Bring Me The Horizon   \n",
      "2  1Ffb6ejR6Fe5IamqA5oRUF     Throne  That's The Spirit  Bring Me The Horizon   \n",
      "\n",
      "  Release Date  Duration (ms)  Popularity  \\\n",
      "0   10/18/2023         164790          74   \n",
      "1     5/4/2023         205368          72   \n",
      "2    9/11/2015         191520          76   \n",
      "\n",
      "                                              Genres  Danceability  Energy  \\\n",
      "0  melodic metalcore,metalcore,modern rock,rock,u...         0.387   0.940   \n",
      "1  melodic metalcore,metalcore,modern rock,rock,u...         0.396   0.939   \n",
      "2  melodic metalcore,metalcore,modern rock,rock,u...         0.426   0.888   \n",
      "\n",
      "   Key  Loudness   Mode  Speechiness  Acousticness  Instrumentalness  \\\n",
      "0    7    -3.018   True       0.1460      0.000352          0.000003   \n",
      "1    9    -3.155  False       0.2270      0.000285          0.000000   \n",
      "2    0    -3.720  False       0.0987      0.000455          0.000000   \n",
      "\n",
      "   Liveness  Valence    Tempo  \n",
      "0     0.628    0.456  167.910  \n",
      "1     0.212    0.390  185.081  \n",
      "2     0.306    0.387  144.111  \n"
     ]
    }
   ],
   "source": [
    "df = df.drop(['Spotify ID', 'Added By', 'Added At', 'Time Signature'], axis=1)\n",
    "print(df.head(3))"
   ]
  },
  {
   "cell_type": "markdown",
   "id": "7a549233",
   "metadata": {},
   "source": [
    "Удаление строк с пропущенными значениями"
   ]
  },
  {
   "cell_type": "code",
   "execution_count": 4,
   "id": "85ae30f9",
   "metadata": {},
   "outputs": [],
   "source": [
    "df.dropna(inplace=True)"
   ]
  },
  {
   "cell_type": "markdown",
   "id": "b138fb0c",
   "metadata": {},
   "source": [
    "Предобработка данных"
   ]
  },
  {
   "cell_type": "code",
   "execution_count": 5,
   "id": "6af75236",
   "metadata": {},
   "outputs": [
    {
     "name": "stdout",
     "output_type": "stream",
     "text": [
      "   Artist IDs  Track Name  Album Name  Artist Name(s)  Release Date  \\\n",
      "0         212        2152         631             182           206   \n",
      "1         212        5399        1647             182          1178   \n",
      "2         212        9575        2696             182          1740   \n",
      "\n",
      "   Duration (ms)  Popularity  Genres  Danceability  Energy  Key  Loudness  \\\n",
      "0         164790          74     972         0.387   0.940    7    -3.018   \n",
      "1         205368          72     972         0.396   0.939    9    -3.155   \n",
      "2         191520          76     972         0.426   0.888    0    -3.720   \n",
      "\n",
      "    Mode  Speechiness  Acousticness  Instrumentalness  Liveness  Valence  \\\n",
      "0   True       0.1460      0.000352          0.000003     0.628    0.456   \n",
      "1  False       0.2270      0.000285          0.000000     0.212    0.390   \n",
      "2  False       0.0987      0.000455          0.000000     0.306    0.387   \n",
      "\n",
      "     Tempo  \n",
      "0  167.910  \n",
      "1  185.081  \n",
      "2  144.111  \n"
     ]
    }
   ],
   "source": [
    "# Кодирование категориальных признаков\n",
    "label_encoders = {}\n",
    "for column in df.select_dtypes(include=['object']).columns:\n",
    "    label_encoders[column] = LabelEncoder()\n",
    "    df[column] = label_encoders[column].fit_transform(df[column])\n",
    "    \n",
    "print(df.head(3))"
   ]
  },
  {
   "cell_type": "code",
   "execution_count": 6,
   "id": "5e38d58a",
   "metadata": {},
   "outputs": [
    {
     "name": "stdout",
     "output_type": "stream",
     "text": [
      "   Artist IDs  Track Name  Album Name  Artist Name(s)  Release Date  \\\n",
      "0   -1.032943   -1.047387   -1.132416       -1.214946     -1.191165   \n",
      "1   -1.032943   -0.007295   -0.120908       -1.214946      0.549409   \n",
      "2   -1.032943    1.330378    0.923455       -1.214946      1.555790   \n",
      "\n",
      "   Duration (ms)  Popularity    Genres  Danceability    Energy       Key  \\\n",
      "0      -0.919780    2.410398  1.890198      0.252167  0.382949  0.498957   \n",
      "1      -0.548958    2.298142  1.890198      0.317669  0.377046  1.066209   \n",
      "2      -0.675508    2.522654  1.890198      0.536006  0.076001 -1.486428   \n",
      "\n",
      "   Loudness   Mode  Speechiness  Acousticness  Instrumentalness  Liveness  \\\n",
      "0  1.034060   True     0.874084     -0.227497         -0.943709  2.487116   \n",
      "1  0.992878  False     2.215229     -0.227993         -0.943718 -0.051936   \n",
      "2  0.823040  False     0.090922     -0.226736         -0.943718  0.521792   \n",
      "\n",
      "    Valence     Tempo  \n",
      "0  1.007971  1.476925  \n",
      "1  0.650282  2.060858  \n",
      "2  0.634023  0.667594  \n"
     ]
    }
   ],
   "source": [
    "# Масштабирование числовых признаков\n",
    "scaler = StandardScaler()\n",
    "numeric_features = df.select_dtypes(include=['int32', 'int64', 'float32', 'float64']).columns\n",
    "df[numeric_features] = scaler.fit_transform(df[numeric_features])\n",
    "\n",
    "print(df.head(3))"
   ]
  },
  {
   "cell_type": "markdown",
   "id": "85eea7ba",
   "metadata": {},
   "source": [
    "Разделение данных на обучающий и тестовый наборы"
   ]
  },
  {
   "cell_type": "code",
   "execution_count": 7,
   "id": "88a62859",
   "metadata": {},
   "outputs": [],
   "source": [
    "X = df.drop('Mode', axis=1)\n",
    "Y = df['Mode']\n",
    "X_train, X_test, Y_train, Y_test = train_test_split(X, Y, test_size=0.2, random_state=42)"
   ]
  },
  {
   "cell_type": "markdown",
   "id": "23d7dfc4",
   "metadata": {},
   "source": [
    "**Модель наивного Байеса**"
   ]
  },
  {
   "cell_type": "markdown",
   "id": "9b2a1812",
   "metadata": {},
   "source": [
    "Создание и обучение модели наивного Байеса"
   ]
  },
  {
   "cell_type": "code",
   "execution_count": 8,
   "id": "cc1fb842",
   "metadata": {},
   "outputs": [],
   "source": [
    "model = GaussianNB()"
   ]
  },
  {
   "cell_type": "code",
   "execution_count": 9,
   "id": "dbbd15a8",
   "metadata": {},
   "outputs": [
    {
     "data": {
      "text/html": [
       "<style>#sk-container-id-1 {color: black;}#sk-container-id-1 pre{padding: 0;}#sk-container-id-1 div.sk-toggleable {background-color: white;}#sk-container-id-1 label.sk-toggleable__label {cursor: pointer;display: block;width: 100%;margin-bottom: 0;padding: 0.3em;box-sizing: border-box;text-align: center;}#sk-container-id-1 label.sk-toggleable__label-arrow:before {content: \"▸\";float: left;margin-right: 0.25em;color: #696969;}#sk-container-id-1 label.sk-toggleable__label-arrow:hover:before {color: black;}#sk-container-id-1 div.sk-estimator:hover label.sk-toggleable__label-arrow:before {color: black;}#sk-container-id-1 div.sk-toggleable__content {max-height: 0;max-width: 0;overflow: hidden;text-align: left;background-color: #f0f8ff;}#sk-container-id-1 div.sk-toggleable__content pre {margin: 0.2em;color: black;border-radius: 0.25em;background-color: #f0f8ff;}#sk-container-id-1 input.sk-toggleable__control:checked~div.sk-toggleable__content {max-height: 200px;max-width: 100%;overflow: auto;}#sk-container-id-1 input.sk-toggleable__control:checked~label.sk-toggleable__label-arrow:before {content: \"▾\";}#sk-container-id-1 div.sk-estimator input.sk-toggleable__control:checked~label.sk-toggleable__label {background-color: #d4ebff;}#sk-container-id-1 div.sk-label input.sk-toggleable__control:checked~label.sk-toggleable__label {background-color: #d4ebff;}#sk-container-id-1 input.sk-hidden--visually {border: 0;clip: rect(1px 1px 1px 1px);clip: rect(1px, 1px, 1px, 1px);height: 1px;margin: -1px;overflow: hidden;padding: 0;position: absolute;width: 1px;}#sk-container-id-1 div.sk-estimator {font-family: monospace;background-color: #f0f8ff;border: 1px dotted black;border-radius: 0.25em;box-sizing: border-box;margin-bottom: 0.5em;}#sk-container-id-1 div.sk-estimator:hover {background-color: #d4ebff;}#sk-container-id-1 div.sk-parallel-item::after {content: \"\";width: 100%;border-bottom: 1px solid gray;flex-grow: 1;}#sk-container-id-1 div.sk-label:hover label.sk-toggleable__label {background-color: #d4ebff;}#sk-container-id-1 div.sk-serial::before {content: \"\";position: absolute;border-left: 1px solid gray;box-sizing: border-box;top: 0;bottom: 0;left: 50%;z-index: 0;}#sk-container-id-1 div.sk-serial {display: flex;flex-direction: column;align-items: center;background-color: white;padding-right: 0.2em;padding-left: 0.2em;position: relative;}#sk-container-id-1 div.sk-item {position: relative;z-index: 1;}#sk-container-id-1 div.sk-parallel {display: flex;align-items: stretch;justify-content: center;background-color: white;position: relative;}#sk-container-id-1 div.sk-item::before, #sk-container-id-1 div.sk-parallel-item::before {content: \"\";position: absolute;border-left: 1px solid gray;box-sizing: border-box;top: 0;bottom: 0;left: 50%;z-index: -1;}#sk-container-id-1 div.sk-parallel-item {display: flex;flex-direction: column;z-index: 1;position: relative;background-color: white;}#sk-container-id-1 div.sk-parallel-item:first-child::after {align-self: flex-end;width: 50%;}#sk-container-id-1 div.sk-parallel-item:last-child::after {align-self: flex-start;width: 50%;}#sk-container-id-1 div.sk-parallel-item:only-child::after {width: 0;}#sk-container-id-1 div.sk-dashed-wrapped {border: 1px dashed gray;margin: 0 0.4em 0.5em 0.4em;box-sizing: border-box;padding-bottom: 0.4em;background-color: white;}#sk-container-id-1 div.sk-label label {font-family: monospace;font-weight: bold;display: inline-block;line-height: 1.2em;}#sk-container-id-1 div.sk-label-container {text-align: center;}#sk-container-id-1 div.sk-container {/* jupyter's `normalize.less` sets `[hidden] { display: none; }` but bootstrap.min.css set `[hidden] { display: none !important; }` so we also need the `!important` here to be able to override the default hidden behavior on the sphinx rendered scikit-learn.org. See: https://github.com/scikit-learn/scikit-learn/issues/21755 */display: inline-block !important;position: relative;}#sk-container-id-1 div.sk-text-repr-fallback {display: none;}</style><div id=\"sk-container-id-1\" class=\"sk-top-container\"><div class=\"sk-text-repr-fallback\"><pre>GaussianNB()</pre><b>In a Jupyter environment, please rerun this cell to show the HTML representation or trust the notebook. <br />On GitHub, the HTML representation is unable to render, please try loading this page with nbviewer.org.</b></div><div class=\"sk-container\" hidden><div class=\"sk-item\"><div class=\"sk-estimator sk-toggleable\"><input class=\"sk-toggleable__control sk-hidden--visually\" id=\"sk-estimator-id-1\" type=\"checkbox\" checked><label for=\"sk-estimator-id-1\" class=\"sk-toggleable__label sk-toggleable__label-arrow\">GaussianNB</label><div class=\"sk-toggleable__content\"><pre>GaussianNB()</pre></div></div></div></div></div>"
      ],
      "text/plain": [
       "GaussianNB()"
      ]
     },
     "execution_count": 9,
     "metadata": {},
     "output_type": "execute_result"
    }
   ],
   "source": [
    "model.fit(X_train, Y_train)"
   ]
  },
  {
   "cell_type": "markdown",
   "id": "1dac711a",
   "metadata": {},
   "source": [
    "Предсказание на тестовом наборе данных"
   ]
  },
  {
   "cell_type": "code",
   "execution_count": 10,
   "id": "0098d641",
   "metadata": {},
   "outputs": [],
   "source": [
    "Y_pred = model.predict(X_test)"
   ]
  },
  {
   "cell_type": "markdown",
   "id": "ebcca031",
   "metadata": {},
   "source": [
    "Оценка модели GaussianNB"
   ]
  },
  {
   "cell_type": "code",
   "execution_count": 11,
   "id": "c06268f3",
   "metadata": {},
   "outputs": [
    {
     "name": "stdout",
     "output_type": "stream",
     "text": [
      "              precision    recall  f1-score   support\n",
      "\n",
      "       False       0.48      0.13      0.20       991\n",
      "        True       0.63      0.91      0.75      1601\n",
      "\n",
      "    accuracy                           0.61      2592\n",
      "   macro avg       0.56      0.52      0.47      2592\n",
      "weighted avg       0.57      0.61      0.54      2592\n",
      "\n"
     ]
    }
   ],
   "source": [
    "report = classification_report(Y_test, Y_pred)\n",
    "print(report)"
   ]
  },
  {
   "cell_type": "markdown",
   "id": "f45022cb",
   "metadata": {},
   "source": [
    "Оценка модели на тестовом наборе данных"
   ]
  },
  {
   "cell_type": "code",
   "execution_count": 12,
   "id": "6d260fe3",
   "metadata": {},
   "outputs": [
    {
     "name": "stdout",
     "output_type": "stream",
     "text": [
      "Оценка модели: 0.6141975308641975\n"
     ]
    }
   ],
   "source": [
    "accuracy = accuracy_score(Y_test, Y_pred)\n",
    "print(\"Оценка модели:\", accuracy)"
   ]
  },
  {
   "cell_type": "markdown",
   "id": "c1c3f735",
   "metadata": {},
   "source": [
    ">*По оценке модели видно, что предсказание верно в примерно 61,4% случаев*"
   ]
  }
 ],
 "metadata": {
  "kernelspec": {
   "display_name": "Python 3 (ipykernel)",
   "language": "python",
   "name": "python3"
  },
  "language_info": {
   "codemirror_mode": {
    "name": "ipython",
    "version": 3
   },
   "file_extension": ".py",
   "mimetype": "text/x-python",
   "name": "python",
   "nbconvert_exporter": "python",
   "pygments_lexer": "ipython3",
   "version": "3.11.4"
  }
 },
 "nbformat": 4,
 "nbformat_minor": 5
}
